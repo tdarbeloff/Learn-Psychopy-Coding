{
 "cells": [
  {
   "cell_type": "markdown",
   "metadata": {},
   "source": [
    "# Fundamentals of Script Writing in Psychopy"
   ]
  },
  {
   "cell_type": "markdown",
   "metadata": {},
   "source": [
    "Psychopy is a unique and easy-to-use resource for writing experimental psychological scripts. It can be used to run infinite interactive paradigms using various forms of stimulus presentation. This notebook walks you through putting together the bare-bones of a psychopy script, which you can then personalize to your hearts desire. Let's get started!\n",
    "\n",
    "*Please note that this notebook walks you through CODER VIEW in psychopy. This does not apply to builder view. Well, it might. I've never actually used builder view. But I would just stick with coder view to practice python skills!"
   ]
  },
  {
   "cell_type": "markdown",
   "metadata": {},
   "source": [
    "### Getting Started"
   ]
  },
  {
   "cell_type": "markdown",
   "metadata": {},
   "source": [
    "The first thing you want to do in your script is import all the python packages you will need for your experiment to run correctly. These include everything from a package to randomize lists to the package that allows you to show visual stimuli. Below are the bare basics to import. "
   ]
  },
  {
   "cell_type": "code",
   "execution_count": null,
   "metadata": {
    "collapsed": true
   },
   "outputs": [],
   "source": [
    "import os\n",
    "import sys\n",
    "import numpy as np\n",
    "import psychopy.gui\n",
    "import psychopy.visual\n",
    "import psychopy.event\n",
    "import psychopy.core\n",
    "from random import randint\n",
    "from random import shuffle"
   ]
  },
  {
   "cell_type": "markdown",
   "metadata": {},
   "source": [
    "These are the basics that I always start with. However, more complex experiments often use paradigms that require extra functions that are not covered by the above packages. You can always look up extra functions and available packages online! At the end of this tutorial, I will write a few extra that often come in handy, and what they can do for you."
   ]
  },
  {
   "cell_type": "markdown",
   "metadata": {},
   "source": [
    "### Subject ID"
   ]
  },
  {
   "cell_type": "markdown",
   "metadata": {},
   "source": [
    "When you start your script for a participant, you are going to want a way to mark down their subject ID. The following code will cause a box to pop up when you first run the script where you can input that information. "
   ]
  },
  {
   "cell_type": "code",
   "execution_count": null,
   "metadata": {
    "collapsed": true
   },
   "outputs": [],
   "source": [
    "gui = psychopy.gui.Dlg()\n",
    "gui.addField(\"Subject ID:\")\n",
    "gui.show()\n",
    "subj_id = gui.data[0]"
   ]
  },
  {
   "cell_type": "markdown",
   "metadata": {},
   "source": [
    "### Creating a file path for response data"
   ]
  },
  {
   "cell_type": "code",
   "execution_count": null,
   "metadata": {
    "collapsed": true
   },
   "outputs": [],
   "source": [
    "data_path = \"ExperimentX\"+str(subj_id)+\".csv\""
   ]
  },
  {
   "cell_type": "markdown",
   "metadata": {},
   "source": [
    "You need to create a path for the data you collect. The above code creates a new .csv (comma separated value) file that the data will now be funnelled into. I always use .csv files as they can be read easily by excel, as well as other texteditors. \n",
    "\n",
    "Put the name of your experiment where *ExperimentX* is written. Often I will also deliniate what type of data I am collecting as well in this area. So if my experiment is called Fear Faces, and I am collecting rating data, I would write \"FF_Responses\". It is always better to label as clear as possible to prevent future confusion.\n",
    "\n",
    "Note that the middle of the code links to the subj_id we collected above. This will insert the subject ID you enter into the file name of the data_path. So if I was running my Fear Faces experiment, and I was running particpant 05, the data file on my computer would look like: FF_Responses05.csv"
   ]
  },
  {
   "cell_type": "code",
   "execution_count": null,
   "metadata": {
    "collapsed": true
   },
   "outputs": [],
   "source": [
    "while os.path.exists(data_path): \n",
    "    print \"CHECK SUBJECT NUMBER\"\n",
    "    subj_id = subj_id+\"000\"\n",
    "    data_path = \"ExperimentX\"+str(subj_id)+\".csv\""
   ]
  },
  {
   "cell_type": "markdown",
   "metadata": {},
   "source": [
    "Sometimes you make mistakes and accidentally enter the wrong subject ID number when running a particpant. This could cause the program to overwrite previous collected data (if you use a subject ID that has already been used). This code is a failsafe against that happening. It does two things.\n",
    "\n",
    "First, it changes the subj_id from whatever you input by adding 000 in front of it. This will prevent files from being overwritten.\n",
    "\n",
    "Second, it will print in the shell (which you can check after running the experiment) \"CHECK SUBJECT NUMBER\", which will alert you to the mistake. \n",
    "\n",
    "While this code is not necessary, I always put it in, just in case."
   ]
  },
  {
   "cell_type": "markdown",
   "metadata": {},
   "source": [
    "### Declaring Experimental Variables "
   ]
  },
  {
   "cell_type": "code",
   "execution_count": null,
   "metadata": {
    "collapsed": true
   },
   "outputs": [],
   "source": []
  },
  {
   "cell_type": "code",
   "execution_count": null,
   "metadata": {
    "collapsed": true
   },
   "outputs": [],
   "source": []
  },
  {
   "cell_type": "code",
   "execution_count": null,
   "metadata": {
    "collapsed": true
   },
   "outputs": [],
   "source": []
  }
 ],
 "metadata": {
  "kernelspec": {
   "display_name": "Python 2",
   "language": "python",
   "name": "python2"
  },
  "language_info": {
   "codemirror_mode": {
    "name": "ipython",
    "version": 2
   },
   "file_extension": ".py",
   "mimetype": "text/x-python",
   "name": "python",
   "nbconvert_exporter": "python",
   "pygments_lexer": "ipython2",
   "version": "2.7.13"
  }
 },
 "nbformat": 4,
 "nbformat_minor": 2
}
